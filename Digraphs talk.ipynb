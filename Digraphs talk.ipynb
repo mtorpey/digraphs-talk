{
 "cells": [
  {
   "cell_type": "markdown",
   "id": "1e9352ea",
   "metadata": {
    "slideshow": {
     "slide_type": "slide"
    }
   },
   "source": [
    "# Digraphs package\n",
    "\n",
    "## 🎉 Tenth anniversary talk 🎈"
   ]
  },
  {
   "cell_type": "markdown",
   "id": "4c42c0af",
   "metadata": {
    "slideshow": {
     "slide_type": "slide"
    }
   },
   "source": [
    "## Summary\n",
    "\n",
    "- First commit: 24th September 2014, 14:34:12\n",
    "- 487 lines are still unchanged\n",
    "\n",
    "Quick exercise to practise writing C code in GAP\n",
    "\n",
    "- 106447 lines\n",
    "- 2824 total commits\n",
    "- 598 are just merges"
   ]
  },
  {
   "cell_type": "markdown",
   "id": "4caab54f",
   "metadata": {
    "slideshow": {
     "slide_type": "slide"
    }
   },
   "source": [
    "Original authors:\n",
    "```\n",
    "James Mitchell\n",
    "Julius Jonusas\n",
    "Michael Torpey\n",
    "Wilfred Wilson\n",
    "```\n",
    "later joined by:\n",
    "```\n",
    "Jan De Beule\n",
    "```"
   ]
  },
  {
   "cell_type": "markdown",
   "id": "5694ad8b",
   "metadata": {
    "slideshow": {
     "slide_type": "slide"
    }
   },
   "source": [
    "```\n",
    "with contributions by:\n",
    "   Marina Anagnostopoulou-Merkouri (mam49@st-andrews.ac.uk),\n",
    "   Finn Buck (finneganlbuck@gmail.com),\n",
    "   Stuart Burrell (https://stuartburrell.github.io),\n",
    "   Graham Campbell,\n",
    "   Raiyan Chowdhury,\n",
    "   Reinis Cirpons (rc234@st-andrews.ac.uk),\n",
    "   Ashley Clayton (ac323@st-andrews.ac.uk),\n",
    "   Tom Conti-Leslie (https://tomcontileslie.com),\n",
    "   Joseph Edwards (https://github.com/Joseph-Edwards),\n",
    "   Luke Elliott (le27@st-andrews.ac.uk),\n",
    "   Isuru Fernando (isuruf@gmail.com),\n",
    "   Ewan Gilligan (eg207@st-andrews.ac.uk),\n",
    "   Sebastian Gutsche (gutsche@momo.math.rwth-aachen.de),\n",
    "   Samantha Harper (seh25@st-andrews.ac.uk),\n",
    "   Max Horn (https://www.quendi.de/math),\n",
    "   Christopher Jefferson (https://caj.host.cs.st-andrews.ac.uk),\n",
    "   Olexandr Konovalov (https://olexandr-konovalov.github.io/),\n",
    "   Andrea Lee (ahwl1@st-andrews.ac.uk),\n",
    "   Michael Orlitzky (https://michael.orlitzky.com/),\n",
    "   Markus Pfeiffer (https://www.morphism.de/~markusp/),\n",
    "   Lea Racine (lr217@st-andrews.ac.uk),\n",
    "   Christopher Russell,\n",
    "   Artur Schaefer (as305@st-and.ac.uk),\n",
    "   Isabella Scott (iscott@uchicago.edu),\n",
    "   Kamran Sharma (kks4@st-andrews.ac.uk),\n",
    "   Finn Smith (fls3@st-andrews.ac.uk),\n",
    "   Ben Spiers (bspiers972@outlook.com),\n",
    "   Maria Tsalakou (https://mariatsalakou.github.io/),\n",
    "   Murray Whyte (mw231@st-andrews.ac.uk), and\n",
    "   Fabian Zickgraf (f.zickgraf@dashdos.com).\n",
    "```\n",
    "and others!"
   ]
  },
  {
   "cell_type": "markdown",
   "id": "e9544619",
   "metadata": {
    "slideshow": {
     "slide_type": "slide"
    }
   },
   "source": [
    "<video controls width=100% src=\"viz/viz.mp4\" />"
   ]
  },
  {
   "cell_type": "markdown",
   "id": "7b1a1beb",
   "metadata": {
    "slideshow": {
     "slide_type": "slide"
    }
   },
   "source": [
    "## Commit message shaming"
   ]
  },
  {
   "cell_type": "markdown",
   "id": "316d3b0d",
   "metadata": {
    "slideshow": {
     "slide_type": "slide"
    }
   },
   "source": [
    "<img src=\"cloud.png\" />"
   ]
  },
  {
   "cell_type": "markdown",
   "id": "d233fa78",
   "metadata": {
    "slideshow": {
     "slide_type": "slide"
    }
   },
   "source": [
    "Bad spelling award: Wilf Wilson\n",
    "\n",
    "- Making **borbits** as slow as possible. WW\n",
    "- Remove last **vestigates** of US \"Color\" spelling variant\n",
    "- examples.gi: fix the method **strongs** (oops)\n",
    "- Fixing tests since I've solved the **troulbe**. WW'\n",
    "- Fixing Dot functions to display **siolated** vertices. WW"
   ]
  },
  {
   "cell_type": "markdown",
   "id": "3dbf65db",
   "metadata": {
    "slideshow": {
     "slide_type": "slide"
    }
   },
   "source": [
    "Unhelpful commit message award: James Mitchell\n",
    "\n",
    "- added forgotted oper.xml\n",
    "- oops\n",
    "- dunno\n",
    "- merg\n",
    "- stuf"
   ]
  },
  {
   "cell_type": "markdown",
   "id": "bd1eee04",
   "metadata": {
    "slideshow": {
     "slide_type": "slide"
    }
   },
   "source": [
    "The nine shortest commit messages:\n",
    "\n",
    "- WW\n",
    "- lint\n",
    "- merg\n",
    "- more\n",
    "- oops\n",
    "- stuf\n",
    "- Chomp\n",
    "- Comma\n",
    "- dunno"
   ]
  },
  {
   "cell_type": "markdown",
   "id": "c50bf62f",
   "metadata": {
    "slideshow": {
     "slide_type": "slide"
    }
   },
   "source": [
    "## Demo"
   ]
  },
  {
   "cell_type": "code",
   "execution_count": null,
   "id": "77538e9a",
   "metadata": {
    "slideshow": {
     "slide_type": "slide"
    }
   },
   "outputs": [],
   "source": [
    "# Digraph by out neighbours\n",
    "gr := Digraph([[4], [2, 2], [2, 3, 1, 4], [1]]);\n",
    "OutNeighbours(gr);\n",
    "OutNeighboursOfVertex(gr, 3);\n",
    "InNeighbours(gr);\n",
    "InNeighboursOfVertex(gr, 2);\n",
    "InDegreeOfVertex(gr, 2);"
   ]
  },
  {
   "cell_type": "code",
   "execution_count": null,
   "id": "737fbec4",
   "metadata": {
    "slideshow": {
     "slide_type": "slide"
    }
   },
   "outputs": [],
   "source": [
    "# Digraph by source and range\n",
    "gr := Digraph(5, [1, 2, 2, 4, 1, 1], [2, 3, 5, 5, 1, 1]);\n",
    "DigraphSource(gr);\n",
    "DigraphRange(gr);\n",
    "DigraphEdges(gr);\n",
    "OutNeighbours(gr);"
   ]
  },
  {
   "cell_type": "code",
   "execution_count": null,
   "id": "16178b78",
   "metadata": {
    "slideshow": {
     "slide_type": "slide"
    }
   },
   "outputs": [],
   "source": [
    "# Digraph by name\n",
    "gr := Digraph(\"ethane\");\n",
    "gr := Digraph(\"twoheptagons\");\n",
    "gr := Digraph(\"coxeter\");\n",
    "gr := BananaTree(5, 2);\n",
    "gr := WindmillGraph(4, 3);"
   ]
  },
  {
   "cell_type": "code",
   "execution_count": null,
   "id": "435d6178",
   "metadata": {
    "slideshow": {
     "slide_type": "slide"
    }
   },
   "outputs": [],
   "source": [
    "# Digraph by function\n",
    "adj := function(x, y) return x >= y*2; end;\n",
    "gr := Digraph([1..12], adj);"
   ]
  },
  {
   "cell_type": "code",
   "execution_count": null,
   "id": "508b055e",
   "metadata": {
    "slideshow": {
     "slide_type": "slide"
    }
   },
   "outputs": [],
   "source": [
    "# Digraph by group\n",
    "petersen := Digraph(Group((1,2,3,4,5)(6,7,8,9,10)),\n",
    "                    [1..10],\n",
    "                    OnPoints,\n",
    "                    {x, y} -> [x,y] in [[1,6], [1,2], [6,8]]);\n",
    "DigraphGroup(petersen);\n",
    "AutomorphismGroup(petersen);\n",
    "ChromaticNumber(petersen);"
   ]
  },
  {
   "cell_type": "code",
   "execution_count": null,
   "id": "4e2e5d2a",
   "metadata": {
    "slideshow": {
     "slide_type": "slide"
    }
   },
   "outputs": [],
   "source": [
    "# Digraph by edges\n",
    "DigraphByEdges([[1, 3], [2, 1], [2, 3], [2, 5], [3, 6],\n",
    "                [4, 6], [5, 2], [5, 4], [5, 6], [6, 6]]);"
   ]
  },
  {
   "cell_type": "code",
   "execution_count": null,
   "id": "4887213f",
   "metadata": {
    "slideshow": {
     "slide_type": "slide"
    }
   },
   "outputs": [],
   "source": [
    "# Digraph by adjacency matrix\n",
    "DigraphByAdjacencyMatrix([\n",
    "    [true, false, true],\n",
    "    [false, false, true],\n",
    "    [false, true, false]]);"
   ]
  },
  {
   "cell_type": "code",
   "execution_count": 16,
   "id": "66ed0573",
   "metadata": {
    "slideshow": {
     "slide_type": "slide"
    }
   },
   "outputs": [
    {
     "data": {
      "text/plain": [
       "true"
      ]
     },
     "execution_count": 12,
     "metadata": {
      "text/plain": ""
     },
     "output_type": "execute_result"
    },
    {
     "data": {
      "text/plain": [
       "rec( adjacencies := [ [ 3, 5, 8 ] ], group := Group( [ (1,2,3,5,7)(4,6,8,9,10), (2,4)(6,9)(7,10) ] ), isGraph := true, names := [ [ 1, 2 ], [ 2, 3 ], [ 3, 4 ], [ 1, 3 ], [ 4, 5 ], [ 2, 4 ], [ 1, 5 ], [ 3, 5 ], [ 1, 4 ], [ 2, 5 ] ], order := 10, representatives := [ 1 ], schreierVector := [ -1, 1, 1, 2, 1, 1, 1, 1, 2, 2 ] )"
      ]
     },
     "execution_count": 13,
     "metadata": {},
     "output_type": "execute_result"
    },
    {
     "data": {
      "text/plain": [
       "<immutable digraph with 10 vertices, 30 edges>"
      ]
     },
     "execution_count": 14,
     "metadata": {
      "text/plain": ""
     },
     "output_type": "execute_result"
    },
    {
     "data": {
      "text/plain": [
       "Group([ (1,2,3,5,7)(4,6,8,9,10), (2,4)(6,9)(7,10) ])"
      ]
     },
     "execution_count": 15,
     "metadata": {
      "text/plain": ""
     },
     "output_type": "execute_result"
    },
    {
     "data": {
      "text/plain": [
       "[ [ 1, 3 ], [ 1, 5 ], [ 1, 8 ], [ 2, 5 ], [ 2, 7 ], [ 2, 9 ], [ 3, 1 ],   [ 3, 7 ], [ 3, 10 ], [ 4, 5 ], [ 4, 6 ], [ 4, 10 ], [ 5, 1 ], [ 5, 2 ],   [ 5, 4 ], [ 6, 4 ], [ 6, 7 ], [ 6, 8 ], [ 7, 2 ], [ 7, 3 ], [ 7, 6 ],   [ 8, 1 ], [ 8, 6 ], [ 8, 9 ], [ 9, 2 ], [ 9, 8 ], [ 9, 10 ], [ 10, 3 ],   [ 10, 4 ], [ 10, 9 ] ]"
      ]
     },
     "execution_count": 16,
     "metadata": {
      "text/plain": ""
     },
     "output_type": "execute_result"
    }
   ],
   "source": [
    "# GRAPE graphs\n",
    "LoadPackage(\"grape\");\n",
    "petersen := Graph(SymmetricGroup(5), [[1, 2]], OnSets, {x, y} -> Intersection(x, y) = []);\n",
    "gr := Digraph(petersen);\n",
    "DigraphGroup(gr);\n",
    "DigraphEdges(gr);"
   ]
  },
  {
   "cell_type": "code",
   "execution_count": null,
   "id": "1babc540",
   "metadata": {
    "slideshow": {
     "slide_type": "slide"
    }
   },
   "outputs": [],
   "source": [
    "# Random digraph\n",
    "RandomDigraph(30);\n",
    "RandomDigraph(50, 0.2);\n",
    "RandomDigraph(IsConnectedDigraph, 1000, 0.75);\n",
    "RandomDigraph(IsHamiltonianDigraph, 70, 1/2);"
   ]
  },
  {
   "cell_type": "code",
   "execution_count": null,
   "id": "57a7f125",
   "metadata": {
    "slideshow": {
     "slide_type": "slide"
    }
   },
   "outputs": [],
   "source": [
    "# Simple things we can find\n",
    "gr := Digraph([[3, 5, 2, 2], [3], [], [5, 2, 5, 3], []]);\n",
    "DigraphSinks(gr);\n",
    "DigraphSources(gr);\n",
    "DigraphMaximumMatching(gr);"
   ]
  },
  {
   "cell_type": "code",
   "execution_count": null,
   "id": "8f3fe7dd",
   "metadata": {
    "slideshow": {
     "slide_type": "slide"
    }
   },
   "outputs": [],
   "source": [
    "# Connectivity\n",
    "gr := Digraph([[2], [3], [4, 5], [5], [1, 2, 3, 4, 5]]);\n",
    "IsStronglyConnectedDigraph(gr);\n",
    "IsBiconnectedDigraph(gr);\n",
    "DigraphDiameter(gr);\n",
    "DigraphShortestDistances(gr);\n",
    "DigraphShortestDistance(gr, 2, 4);"
   ]
  },
  {
   "cell_type": "code",
   "execution_count": null,
   "id": "55dc45e0",
   "metadata": {
    "slideshow": {
     "slide_type": "slide"
    }
   },
   "outputs": [],
   "source": [
    "DigraphGirth(gr);\n",
    "DigraphAllSimpleCircuits(gr);\n",
    "IsBridgelessDigraph(gr);\n",
    "IsEulerianDigraph(gr);\n",
    "IsHamiltonianDigraph(gr);\n",
    "HamiltonianPath(gr);"
   ]
  },
  {
   "cell_type": "code",
   "execution_count": null,
   "id": "2d490343",
   "metadata": {
    "slideshow": {
     "slide_type": "slide"
    }
   },
   "outputs": [],
   "source": [
    "# More types of graph\n",
    "gr := Digraph([[1, 2, 3, 2], [2, 1], [3]]);\n",
    "IsMultiDigraph(gr);\n",
    "gr := EdgeWeightedDigraph([[2,3],[4],[4],[]], [[5,1],[6],[11],[]]);\n",
    "tree := EdgeWeightedDigraphMinimumSpanningTree(gr);\n",
    "DigraphEdges(tree);"
   ]
  },
  {
   "cell_type": "code",
   "execution_count": null,
   "id": "2ca30f77",
   "metadata": {
    "slideshow": {
     "slide_type": "slide"
    }
   },
   "outputs": [],
   "source": [
    "# Regularity\n",
    "IsRegularDigraph(CompleteDigraph(4));\n",
    "IsRegularDigraph(ChainDigraph(4));\n",
    "gr := DigraphSymmetricClosure(ChainDigraph(5));;\n",
    "IsDistanceRegularDigraph(gr);"
   ]
  },
  {
   "cell_type": "code",
   "execution_count": null,
   "id": "36d1c36a",
   "metadata": {
    "slideshow": {
     "slide_type": "slide"
    }
   },
   "outputs": [],
   "source": [
    "# Trees\n",
    "gr := Digraph([[2, 3], [6], [4, 5], [], [], []]);\n",
    "IsUndirectedTree(gr);\n",
    "IsUndirectedForest(gr);"
   ]
  },
  {
   "cell_type": "code",
   "execution_count": null,
   "id": "2e6eb641",
   "metadata": {
    "slideshow": {
     "slide_type": "slide"
    }
   },
   "outputs": [],
   "source": [
    "# Planarity\n",
    "IsPlanarDigraph(CompleteDigraph(4));\n",
    "IsPlanarDigraph(CompleteBipartiteDigraph(3, 3));"
   ]
  },
  {
   "cell_type": "code",
   "execution_count": null,
   "id": "dda5c830",
   "metadata": {
    "slideshow": {
     "slide_type": "slide"
    }
   },
   "outputs": [],
   "source": [
    "# Symmetric digraphs (i.e. undirected graphs)\n",
    "gr := RandomDigraph(IsSymmetricDigraph, 10, 0.1);\n",
    "IsSymmetricDigraph(gr);\n",
    "Splash(DotSymmetricDigraph(gr));\n",
    "UndirectedSpanningTree(gr);\n",
    "DigraphUndirectedGirth(gr);\n",
    "DigraphSymmetricClosure(gr);\n",
    "IsReflexiveDigraph(gr);\n",
    "IsTransitiveDigraph(gr);\n",
    "DigraphSymmetricClosure(gr);"
   ]
  },
  {
   "cell_type": "code",
   "execution_count": null,
   "id": "e9632689",
   "metadata": {
    "slideshow": {
     "slide_type": "slide"
    }
   },
   "outputs": [],
   "source": [
    "# Multidigraphs (multiple edges)\n",
    "gr := Digraph([[1, 3, 3, 4], [1, 1], [], []]);\n",
    "Splash(DotDigraph(gr));\n",
    "IsMultiDigraph(gr);\n",
    "IsCompleteDigraph(gr);\n",
    "DigraphRemoveAllMultipleEdges(gr);"
   ]
  },
  {
   "cell_type": "code",
   "execution_count": null,
   "id": "c1791cc5",
   "metadata": {
    "slideshow": {
     "slide_type": "slide"
    }
   },
   "outputs": [],
   "source": [
    "DigraphContractEdge(gr, 1, 3);\n",
    "DigraphReflexiveTransitiveClosure(gr);"
   ]
  },
  {
   "cell_type": "code",
   "execution_count": null,
   "id": "01be62e8",
   "metadata": {
    "slideshow": {
     "slide_type": "slide"
    }
   },
   "outputs": [],
   "source": [
    "DigraphStronglyConnectedComponents(gr);\n",
    "DigraphAbsorptionProbabilities(gr);"
   ]
  },
  {
   "cell_type": "code",
   "execution_count": null,
   "id": "333e254f",
   "metadata": {
    "slideshow": {
     "slide_type": "slide"
    }
   },
   "outputs": [],
   "source": [
    "# Edge weights\n",
    "gr := EdgeWeightedDigraph([[1, 3], [1], [4], []], [[1, 2], [1], [1], []]);\n",
    "EdgeWeights(gr);\n",
    "EdgeWeightedDigraphTotalWeight(gr);\n",
    "EdgeWeightedDigraphMinimumSpanningTree(gr);                      "
   ]
  },
  {
   "cell_type": "code",
   "execution_count": null,
   "id": "e36cad4f",
   "metadata": {
    "slideshow": {
     "slide_type": "slide"
    }
   },
   "outputs": [],
   "source": [
    "# Orders\n",
    "gr := Digraph([[1], [2, 3], [2, 3]]);\n",
    "Splash(DotDigraph(gr));\n",
    "IsPreorderDigraph(gr);\n",
    "IsQuasiorderDigraph(gr);\n",
    "IsPartialOrderDigraph(gr);\n",
    "Splash(DotPreorderDigraph(gr));"
   ]
  },
  {
   "cell_type": "code",
   "execution_count": null,
   "id": "8393fde8",
   "metadata": {
    "slideshow": {
     "slide_type": "slide"
    }
   },
   "outputs": [],
   "source": [
    "# Acting\n",
    "D := Digraph([[3], [1, 3, 5], [1], [1, 2, 4], [2, 3, 5]]);\n",
    "new := OnDigraphs(D, (1, 2));\n",
    "OutNeighbours(new);\n",
    "D := Digraph([[2], [], [2]]);\n",
    "new := OnDigraphs(D, Transformation([1, 2, 1]));\n",
    "OutNeighbours(new);"
   ]
  },
  {
   "cell_type": "code",
   "execution_count": null,
   "id": "7cd0f1ee",
   "metadata": {
    "slideshow": {
     "slide_type": "slide"
    }
   },
   "outputs": [],
   "source": [
    "# Automorphisms\n",
    "digraph1 := ChainDigraph(4);\n",
    "digraph2 := DigraphReverse(digraph1);\n",
    "IsomorphismDigraphs(digraph1, digraph2);\n",
    "gr := CompleteDigraph(6);\n",
    "AutomorphismGroup(gr);\n",
    "AutomorphismGroup(gr, [1, 1, 1, 2, 2, 2]);"
   ]
  },
  {
   "cell_type": "code",
   "execution_count": null,
   "id": "b260817f",
   "metadata": {
    "slideshow": {
     "slide_type": "slide"
    }
   },
   "outputs": [],
   "source": [
    "J := JohnsonDigraph(4, 2);                            \n",
    "G := AutomorphismGroup(J);\n",
    "IsDigraphCore(gr);\n",
    "IsVertexTransitive(gr);\n",
    "IsEdgeTransitive(gr);"
   ]
  },
  {
   "cell_type": "code",
   "execution_count": null,
   "id": "84934dfb",
   "metadata": {
    "slideshow": {
     "slide_type": "slide"
    }
   },
   "outputs": [],
   "source": [
    "# Homomorphisms\n",
    "gr1 := ChainDigraph(3);;\n",
    "gr2 := Digraph([[3, 5], [2], [3, 1], [], [4]]);\n",
    "Splash(DotDigraph(gr1)); Splash(DotDigraph(gr2));\n",
    "DigraphHomomorphism(gr1, gr2);\n",
    "HomomorphismsDigraphs(gr1, gr2);\n",
    "HomomorphismsDigraphsRepresentatives(gr1, CompleteDigraph(3));"
   ]
  },
  {
   "cell_type": "code",
   "execution_count": null,
   "id": "b6c9c9f7",
   "metadata": {
    "slideshow": {
     "slide_type": "slide"
    }
   },
   "outputs": [],
   "source": [
    "# Monomorphisms\n",
    "gr1 := ChainDigraph(3);;\n",
    "gr2 := Digraph([[3, 5], [2], [3, 1], [], [4]]);\n",
    "DigraphMonomorphism(gr1, gr1);\n",
    "DigraphMonomorphism(gr1, gr2);\n",
    "emb := DigraphEmbedding(gr1, CompleteDigraph(4));\n",
    "emb := DigraphEmbedding(gr1, Digraph([[3], [1, 4], [1], [3]]));"
   ]
  },
  {
   "cell_type": "code",
   "execution_count": null,
   "id": "95de2094",
   "metadata": {
    "slideshow": {
     "slide_type": "slide"
    }
   },
   "outputs": [],
   "source": [
    "# Epimorphisms\n",
    "gr1 := DigraphReverse(ChainDigraph(4));\n",
    "gr2 := DigraphRemoveEdge(CompleteDigraph(3), [1, 2]);\n",
    "DigraphEpimorphism(gr2, gr1);\n",
    "DigraphEpimorphism(gr1, gr2);"
   ]
  },
  {
   "cell_type": "code",
   "execution_count": null,
   "id": "5e94c154",
   "metadata": {
    "slideshow": {
     "slide_type": "slide"
    }
   },
   "outputs": [],
   "source": [
    "# Core\n",
    "D := DigraphSymmetricClosure(CycleDigraph(8));\n",
    "DigraphCore(D);\n",
    "D := PetersenGraph();\n",
    "DigraphCore(D);"
   ]
  },
  {
   "cell_type": "code",
   "execution_count": null,
   "id": "bcc78b58",
   "metadata": {
    "slideshow": {
     "slide_type": "slide"
    }
   },
   "outputs": [],
   "source": [
    "# Colourings\n",
    "DigraphColouring(CompleteDigraph(5), 4);\n",
    "DigraphColouring(ChainDigraph(10), 1);\n",
    "D := ChainDigraph(10);;\n",
    "t := DigraphColouring(D, 2);\n",
    "IsDigraphColouring(D, t); \n",
    "DigraphGreedyColouring(D);\n",
    "ChromaticNumber(D);"
   ]
  },
  {
   "cell_type": "code",
   "execution_count": null,
   "id": "c1a095ad",
   "metadata": {
    "slideshow": {
     "slide_type": "slide"
    }
   },
   "outputs": [],
   "source": [
    "# Cliques\n",
    "D := CompleteDigraph(4);;\n",
    "IsClique(D, [1, 3, 2]);\n",
    "IsMaximalClique(D, [1, 3, 2]);\n",
    "D := Digraph([[2, 3, 4], [1, 3], [1, 2], [1, 5], []]);\n",
    "DigraphMaximalClique(D);\n",
    "DigraphMaximalClique(D, [1, 3]);\n",
    "DigraphClique(D, [1], [2]);\n",
    "DigraphMaximalClique(D, [1], [3, 4]);\n",
    "CliqueNumber(D);"
   ]
  },
  {
   "cell_type": "code",
   "execution_count": null,
   "id": "995581b1",
   "metadata": {
    "slideshow": {
     "slide_type": "slide"
    }
   },
   "outputs": [],
   "source": [
    "# Anti-cliques\n",
    "D := CycleDigraph(4);;\n",
    "IsIndependentSet(D, [1, 4, 3]);\n",
    "IsIndependentSet(D, [2, 4]);"
   ]
  },
  {
   "cell_type": "code",
   "execution_count": null,
   "id": "0d3eabb4",
   "metadata": {
    "slideshow": {
     "slide_type": "slide"
    }
   },
   "outputs": [],
   "source": [
    "# Display colours\n",
    "D := CompleteDigraph(4);;\n",
    "vertcolors := [\"lightblue\", \"thistle\", \"limegreen\", \"gold\"];;\n",
    "edgecolors := [[\"navy\", \"red\", \"purple\"],\n",
    "               [\"navy\", \"red\", \"purple\"],\n",
    "               [\"navy\", \"red\", \"purple\"],\n",
    "               [\"navy\", \"red\", \"purple\"]];;\n",
    "Splash(DotColoredDigraph(D, vertcolors, edgecolors));\n",
    "Splash(DotSymmetricColoredDigraph(D, vertcolors, edgecolors));"
   ]
  },
  {
   "cell_type": "code",
   "execution_count": null,
   "id": "2f93477b",
   "metadata": {
    "slideshow": {
     "slide_type": "slide"
    }
   },
   "outputs": [],
   "source": [
    "# Display labels\n",
    "D := CompleteDigraph(4);;\n",
    "SetDigraphVertexLabels(D, [\"James\", \"Wilf\", \"Michael\", \"Jan\"]);\n",
    "Splash(DotVertexLabelledDigraph(D));"
   ]
  },
  {
   "cell_type": "code",
   "execution_count": null,
   "id": "69c4fc1c",
   "metadata": {
    "slideshow": {
     "slide_type": "slide"
    }
   },
   "outputs": [],
   "source": [
    "# Encoding digraphs\n",
    "G := PetersenGraph();\n",
    "Print(G, \"\\n\");\n",
    "D := BananaTree(4, 4);\n",
    "Print(D, \"\\n\");\n",
    "Sparse6String(D);\n",
    "Graph6String(D);"
   ]
  },
  {
   "cell_type": "code",
   "execution_count": null,
   "id": "85db46ae",
   "metadata": {
    "scrolled": true,
    "slideshow": {
     "slide_type": "slide"
    }
   },
   "outputs": [],
   "source": [
    "# Storing digraphs\n",
    "graphs := [JohnsonDigraph(4, 2),\n",
    "           ChainDigraph(100), \n",
    "           CompleteDigraph(6), \n",
    "           Digraph(\"icosahedral\"),\n",
    "           EmptyDigraph(1000)];;\n",
    "WriteDigraphs(\"mygraphs\", graphs);\n",
    "new := ReadDigraphs(\"mygraphs.ds6\");\n",
    "new = graphs;"
   ]
  },
  {
   "cell_type": "markdown",
   "id": "fafaf7ac",
   "metadata": {
    "slideshow": {
     "slide_type": "slide"
    }
   },
   "source": [
    "## Future\n",
    "- We'll keep adding algorithms\n",
    "- v1.8.0 release yesterday\n",
    "- Talk to us about graphs!\n",
    "- Issues and PRs welcome: <https://github.com/digraphs/Digraphs>\n",
    "- Read our lovely manual: <https://digraphs.github.io/Digraphs/>"
   ]
  }
 ],
 "metadata": {
  "celltoolbar": "Slideshow",
  "kernelspec": {
   "display_name": "GAP 4",
   "language": "gap",
   "name": "gap-4"
  },
  "language_info": {
   "codemirror_mode": "gap",
   "file_extension": ".g",
   "mimetype": "text/x-gap",
   "name": "GAP 4",
   "nbconvert_exporter": "",
   "pygments_lexer": "gap",
   "version": "4.14dev"
  }
 },
 "nbformat": 4,
 "nbformat_minor": 5
}
